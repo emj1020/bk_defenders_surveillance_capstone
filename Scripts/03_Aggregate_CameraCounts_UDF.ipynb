{
 "cells": [
  {
   "cell_type": "code",
   "execution_count": 1,
   "id": "96a29cea",
   "metadata": {},
   "outputs": [],
   "source": [
    "import pandas as pd\n",
    "import numpy as np\n",
    "import matplotlib.pyplot as plt\n",
    "import geopandas as gpd\n",
    "from shapely.wkt import loads\n",
    "import geotable\n",
    "import os"
   ]
  },
  {
   "cell_type": "markdown",
   "id": "ca3ed467",
   "metadata": {},
   "source": [
    "### Script Objectives:\n",
    "\n",
    "This script filters our two main camera datasets (Amnesty Internation and Hikvision) via spatial joins of Brooklyn's boundary geometry. This will return a subset of the original camera datasets that we are interested in for our surviellance metric to be created for the neighborhoods across Brooklyn.\n",
    "\n",
    "We look to create a function that inputs:\n",
    "\n",
    "* GeoDataFrame containing geometry of desire U.S. Census geographies (i.e. tracts, blocks, block groups)\n",
    "\n",
    "* Camera datasets\n",
    "\n",
    "* dictionary of columns of interest within camera datasets (i.e. n_camera_median, hikvision_cameras, etc.)\n",
    "\n",
    "* dictionary of geometry columns within geographic datasets\n",
    "\n",
    "and outputs and GeoDataFrame that contains:\n",
    "\n",
    "* aggregated camera counts for each unique geographic unit\n",
    "\n",
    "* associated population counts from the U.S. Census and ACS tables\n",
    "\n",
    "* geometry column for chloropleth creation\n",
    "\n",
    "#### Input Files:\n",
    "\n",
    " **Cameras**\n",
    "\n",
    " * Amnesty International Camera Dataset: `os.path.dirname(os.path.dirname(path))+'/CapstoneData/amnesty_camera_counts_per_intersections.csv'`\n",
    "\n",
    " * Hikvision Camera Dataset: `../Data/NYC_Surveillance_Map_Hikvision.csv`\n",
    "\n",
    "\n",
    " **Shapefiles**\n",
    "\n",
    " * NYC Census Blocks: `../Data/2020_Census_Blocks_-_Tabular.csv`\n",
    " \n",
    " * NYC Census Tracts: `../Data/2020_Census_Tracts_-_Tabular.csv`\n",
    " \n",
    " * NYC Block Groups: `../Data/tl_2017_36_bg/tl_2017_36_bg.shp`"
   ]
  },
  {
   "cell_type": "markdown",
   "id": "77e27fb0",
   "metadata": {},
   "source": [
    "### Step 1: Load Input Data"
   ]
  },
  {
   "cell_type": "code",
   "execution_count": 2,
   "id": "76252e3f",
   "metadata": {},
   "outputs": [],
   "source": [
    "#load camera data\n",
    "path = os.getcwd()\n",
    "parent = os.path.dirname(os.path.dirname(path))\n",
    "amnesty = pd.read_csv(parent+'/CapstoneData/amnesty_camera_counts_per_intersections.csv')\n",
    "hikvision = pd.read_csv('../Data/NYC_Surveillance_Map_Hikvision.csv', index_col = 0)\n",
    "\n",
    "#load shapefiles\n",
    "nyc_blks = pd.read_csv('../Data/2020_Census_Blocks_-_Tabular.csv')\n",
    "nyc_tracts = pd.read_csv('../Data/2020_Census_Tracts_-_Tabular.csv')\n",
    "nyc_blkgp = gpd.read_file('../Data/tl_2017_36_bg/tl_2017_36_bg.shp')"
   ]
  },
  {
   "cell_type": "markdown",
   "id": "508c20fe",
   "metadata": {},
   "source": [
    "### Step 2: Investigate which Columns we need for each dataset\n",
    "\n",
    "We should tell the function which columns are important to consider for each camera dataset as well as which columns are hold geometry values so we can easily conduct spatial joins and convert datasets to GeoDataFrame if needed. I am thinking we should have the function input two dictionaries, one for camera columns and the other for geometry columns."
   ]
  },
  {
   "cell_type": "code",
   "execution_count": 4,
   "id": "d3869155",
   "metadata": {},
   "outputs": [
    {
     "data": {
      "text/plain": [
       "Index(['PanoramaId', 'n_cameras_median', 'attached_street_median',\n",
       "       'attached_building_median', 'attached_unknown_median',\n",
       "       'type_dome_median', 'type_bullet_median', 'type_unknown_median',\n",
       "       'n_cameras_agreement', 'attached_street_agreement',\n",
       "       'attached_building_agreement', 'attached_unknown_agreement',\n",
       "       'type_dome_agreement', 'type_bullet_agreement',\n",
       "       'type_unknown_agreement', 'Lat', 'Long', 'geometry_pano', 'BoroName',\n",
       "       'URL', 'ImageDate'],\n",
       "      dtype='object')"
      ]
     },
     "execution_count": 4,
     "metadata": {},
     "output_type": "execute_result"
    }
   ],
   "source": [
    "amnesty.columns"
   ]
  },
  {
   "cell_type": "code",
   "execution_count": 5,
   "id": "fdb5b202",
   "metadata": {},
   "outputs": [
    {
     "data": {
      "text/plain": [
       "Index(['Name', 'Latitude', 'Longitude', 'Zip_Code', 'Borough',\n",
       "       'geometry_layer', 'wkt'],\n",
       "      dtype='object')"
      ]
     },
     "execution_count": 5,
     "metadata": {},
     "output_type": "execute_result"
    }
   ],
   "source": [
    "hikvision.columns"
   ]
  },
  {
   "cell_type": "code",
   "execution_count": 6,
   "id": "f7525e83",
   "metadata": {},
   "outputs": [
    {
     "data": {
      "text/html": [
       "<div>\n",
       "<style scoped>\n",
       "    .dataframe tbody tr th:only-of-type {\n",
       "        vertical-align: middle;\n",
       "    }\n",
       "\n",
       "    .dataframe tbody tr th {\n",
       "        vertical-align: top;\n",
       "    }\n",
       "\n",
       "    .dataframe thead th {\n",
       "        text-align: right;\n",
       "    }\n",
       "</style>\n",
       "<table border=\"1\" class=\"dataframe\">\n",
       "  <thead>\n",
       "    <tr style=\"text-align: right;\">\n",
       "      <th></th>\n",
       "      <th>Name</th>\n",
       "      <th>Latitude</th>\n",
       "      <th>Longitude</th>\n",
       "      <th>Zip_Code</th>\n",
       "      <th>Borough</th>\n",
       "      <th>geometry_layer</th>\n",
       "      <th>wkt</th>\n",
       "    </tr>\n",
       "  </thead>\n",
       "  <tbody>\n",
       "    <tr>\n",
       "      <th>0</th>\n",
       "      <td>100.12.128.86</td>\n",
       "      <td>40.630798</td>\n",
       "      <td>-74.098297</td>\n",
       "      <td>10301.0</td>\n",
       "      <td>Staten Island</td>\n",
       "      <td>Hikvision: Staten Island</td>\n",
       "      <td>POINT Z (-74.09829712 40.63079834 0)</td>\n",
       "    </tr>\n",
       "    <tr>\n",
       "      <th>1</th>\n",
       "      <td>100.12.139.126</td>\n",
       "      <td>40.604191</td>\n",
       "      <td>-74.107681</td>\n",
       "      <td>10301.0</td>\n",
       "      <td>Staten Island</td>\n",
       "      <td>Hikvision: Staten Island</td>\n",
       "      <td>POINT Z (-74.10768127 40.60419083 0)</td>\n",
       "    </tr>\n",
       "    <tr>\n",
       "      <th>2</th>\n",
       "      <td>100.12.139.79</td>\n",
       "      <td>40.605530</td>\n",
       "      <td>-74.102753</td>\n",
       "      <td>10301.0</td>\n",
       "      <td>Staten Island</td>\n",
       "      <td>Hikvision: Staten Island</td>\n",
       "      <td>POINT Z (-74.10275269 40.60552979 0)</td>\n",
       "    </tr>\n",
       "    <tr>\n",
       "      <th>3</th>\n",
       "      <td>100.12.141.104</td>\n",
       "      <td>40.627338</td>\n",
       "      <td>-74.103592</td>\n",
       "      <td>10301.0</td>\n",
       "      <td>Staten Island</td>\n",
       "      <td>Hikvision: Staten Island</td>\n",
       "      <td>POINT Z (-74.10359192 40.62733841 0)</td>\n",
       "    </tr>\n",
       "    <tr>\n",
       "      <th>4</th>\n",
       "      <td>100.12.152.177</td>\n",
       "      <td>40.624729</td>\n",
       "      <td>-74.094543</td>\n",
       "      <td>10301.0</td>\n",
       "      <td>Staten Island</td>\n",
       "      <td>Hikvision: Staten Island</td>\n",
       "      <td>POINT Z (-74.09454346 40.62472916 0)</td>\n",
       "    </tr>\n",
       "  </tbody>\n",
       "</table>\n",
       "</div>"
      ],
      "text/plain": [
       "              Name   Latitude  Longitude  Zip_Code        Borough  \\\n",
       "0   100.12.128.86   40.630798 -74.098297   10301.0  Staten Island   \n",
       "1  100.12.139.126   40.604191 -74.107681   10301.0  Staten Island   \n",
       "2   100.12.139.79   40.605530 -74.102753   10301.0  Staten Island   \n",
       "3  100.12.141.104   40.627338 -74.103592   10301.0  Staten Island   \n",
       "4  100.12.152.177   40.624729 -74.094543   10301.0  Staten Island   \n",
       "\n",
       "             geometry_layer                                   wkt  \n",
       "0  Hikvision: Staten Island  POINT Z (-74.09829712 40.63079834 0)  \n",
       "1  Hikvision: Staten Island  POINT Z (-74.10768127 40.60419083 0)  \n",
       "2  Hikvision: Staten Island  POINT Z (-74.10275269 40.60552979 0)  \n",
       "3  Hikvision: Staten Island  POINT Z (-74.10359192 40.62733841 0)  \n",
       "4  Hikvision: Staten Island  POINT Z (-74.09454346 40.62472916 0)  "
      ]
     },
     "execution_count": 6,
     "metadata": {},
     "output_type": "execute_result"
    }
   ],
   "source": [
    "hikvision.head()"
   ]
  },
  {
   "cell_type": "code",
   "execution_count": 9,
   "id": "a2d8992f",
   "metadata": {},
   "outputs": [],
   "source": [
    "#camera related column names\n",
    "amnesty_camera_cols = ['n_cameras_median', 'attached_street_median',\n",
    "       'attached_building_median', 'attached_unknown_median',\n",
    "       'type_dome_median', 'type_bullet_median', 'type_unknown_median']\n",
    "hikvision_camera_cols = ['Name']\n",
    "#create dictionary key: dataset, value: camera columns\n",
    "camera_cols = {'amnesty':amnesty_camera_cols,'hikvision':hikvision_camera_cols}"
   ]
  },
  {
   "cell_type": "code",
   "execution_count": 11,
   "id": "65d03614",
   "metadata": {},
   "outputs": [
    {
     "data": {
      "text/plain": [
       "Index(['the_geom', 'CB2020', 'BoroCode', 'BoroName', 'CT2020', 'BCTCB2020',\n",
       "       'GEOID', 'Shape_Leng', 'Shape_Area'],\n",
       "      dtype='object')"
      ]
     },
     "execution_count": 11,
     "metadata": {},
     "output_type": "execute_result"
    }
   ],
   "source": [
    "nyc_blks.columns"
   ]
  },
  {
   "cell_type": "code",
   "execution_count": 12,
   "id": "bd4163d7",
   "metadata": {},
   "outputs": [
    {
     "data": {
      "text/plain": [
       "Index(['the_geom', 'CTLabel', 'BoroCode', 'BoroName', 'CT2020', 'BoroCT2020',\n",
       "       'CDEligibil', 'NTAName', 'NTA2020', 'CDTA2020', 'CDTANAME', 'GEOID',\n",
       "       'Shape_Leng', 'Shape_Area'],\n",
       "      dtype='object')"
      ]
     },
     "execution_count": 12,
     "metadata": {},
     "output_type": "execute_result"
    }
   ],
   "source": [
    "nyc_tracts.columns"
   ]
  },
  {
   "cell_type": "code",
   "execution_count": 13,
   "id": "18effcfa",
   "metadata": {},
   "outputs": [
    {
     "data": {
      "text/plain": [
       "Index(['STATEFP', 'COUNTYFP', 'TRACTCE', 'BLKGRPCE', 'GEOID', 'NAMELSAD',\n",
       "       'MTFCC', 'FUNCSTAT', 'ALAND', 'AWATER', 'INTPTLAT', 'INTPTLON',\n",
       "       'geometry'],\n",
       "      dtype='object')"
      ]
     },
     "execution_count": 13,
     "metadata": {},
     "output_type": "execute_result"
    }
   ],
   "source": [
    "nyc_blkgp.columns"
   ]
  },
  {
   "cell_type": "code",
   "execution_count": 16,
   "id": "3b938802",
   "metadata": {},
   "outputs": [],
   "source": [
    "#geometry related columns names\n",
    "amnesty_geo_cols = ['Lat', 'Long']\n",
    "hikvision_geo_cols = ['Latitude','Longitude']\n",
    "nyc_blks_geo_cols = ['the_geom']\n",
    "nyc_tracts_geo_cols = ['the_geom']\n",
    "nyc_blkgp_geo_cols = ['geometry']\n",
    "\n",
    "#create dictionary key: dataset, value: camera columns\n",
    "geo_cols = {'amnesty':amnesty_geo_cols,'hikvision':hikvision_geo_cols, 'nyc_blks':nyc_blks_geo_cols,\n",
    "           'nyc_tracts':nyc_tracts_geo_cols, 'nyc_blkgp':nyc_blkgp_geo_cols}"
   ]
  },
  {
   "cell_type": "code",
   "execution_count": 17,
   "id": "08e6777e",
   "metadata": {},
   "outputs": [
    {
     "data": {
      "text/plain": [
       "{'amnesty': ['Lat', 'Long'],\n",
       " 'hikvision': ['Latitude', 'Longitude'],\n",
       " 'nyc_blks': ['the_geom'],\n",
       " 'nyc_tracts': ['the_geom'],\n",
       " 'nyc_blkgp': ['geometry']}"
      ]
     },
     "execution_count": 17,
     "metadata": {},
     "output_type": "execute_result"
    }
   ],
   "source": [
    "geo_cols"
   ]
  },
  {
   "cell_type": "markdown",
   "id": "19470690",
   "metadata": {},
   "source": [
    "### Step 3: Define our function"
   ]
  },
  {
   "cell_type": "code",
   "execution_count": null,
   "id": "59ebfd64",
   "metadata": {},
   "outputs": [],
   "source": [
    "def agg_cameras_to_geo():\n",
    "    "
   ]
  }
 ],
 "metadata": {
  "kernelspec": {
   "display_name": "Python 3 (ipykernel)",
   "language": "python",
   "name": "python3"
  },
  "language_info": {
   "codemirror_mode": {
    "name": "ipython",
    "version": 3
   },
   "file_extension": ".py",
   "mimetype": "text/x-python",
   "name": "python",
   "nbconvert_exporter": "python",
   "pygments_lexer": "ipython3",
   "version": "3.10.6"
  }
 },
 "nbformat": 4,
 "nbformat_minor": 5
}
